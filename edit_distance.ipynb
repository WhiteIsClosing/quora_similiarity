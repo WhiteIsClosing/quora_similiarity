{
 "cells": [
  {
   "cell_type": "code",
   "execution_count": 90,
   "metadata": {
    "collapsed": true
   },
   "outputs": [],
   "source": [
    "import pandas as pd\n",
    "from sklearn.linear_model import LogisticRegression\n",
    "from sklearn.ensemble import RandomForestClassifier\n",
    "from sklearn import svm\n",
    "from sklearn.model_selection import train_test_split as tts\n",
    "from sklearn.metrics import accuracy_score\n",
    "from sklearn.metrics import classification_report"
   ]
  },
  {
   "cell_type": "code",
   "execution_count": 23,
   "metadata": {
    "collapsed": true
   },
   "outputs": [],
   "source": [
    "train = pd.read_csv('train.csv')"
   ]
  },
  {
   "cell_type": "code",
   "execution_count": 27,
   "metadata": {
    "collapsed": false
   },
   "outputs": [],
   "source": [
    "train = train[~train['question2'].isnull()]"
   ]
  },
  {
   "cell_type": "code",
   "execution_count": 155,
   "metadata": {
    "collapsed": false,
    "scrolled": false
   },
   "outputs": [
    {
     "name": "stdout",
     "output_type": "stream",
     "text": [
      "homogenized:\n",
      "[[  9  99 105 116 121  98 108 111  99 107]\n",
      " [  6  99 111 115 105 110 101   0   0   0]\n",
      " [  9 101 117  99 108 105 100 101  97 110]\n",
      " [  2 108  49   0   0   0   0   0   0   0]\n",
      " [  2 108  50   0   0   0   0   0   0   0]\n",
      " [  9 109  97 110 104  97 116 116  97 110]]\n",
      "\n",
      "dehomogenized:\n",
      "['cityblock', 'cosine', 'euclidean', 'l1', 'l2', 'manhattan']\n",
      "\n",
      "distances:\n",
      "[[ 0.  8.  9.  8.  8.  9.]\n",
      " [ 8.  0.  7.  6.  6.  9.]\n",
      " [ 9.  7.  0.  8.  8.  7.]\n",
      " [ 8.  6.  8.  0.  1.  9.]\n",
      " [ 8.  6.  8.  1.  0.  9.]\n",
      " [ 9.  9.  7.  9.  9.  0.]]\n",
      "\n"
     ]
    }
   ],
   "source": [
    "##############################\n",
    "#Edit Distance Function\n",
    "##############################\n",
    "import numpy as np\n",
    "from sklearn.metrics.pairwise import pairwise_distances\n",
    "from pylev import levenshtein\n",
    "\n",
    "def homogenized(strings):\n",
    "    lengths = [len(s) for s in strings]\n",
    "    n = max(lengths)\n",
    "    for s in strings:\n",
    "        k = len(s)\n",
    "        yield [k] + [ord(c) for c in s] + [0] * (n - k)\n",
    "\n",
    "def dehomogenized(points):\n",
    "    for p in points:\n",
    "        k = int(p[0])\n",
    "        yield ''.join(chr(int(x)) for x in p[1:k+1])\n",
    "\n",
    "def mylev(u, v):\n",
    "    return levenshtein(*list(dehomogenized((u, v))))\n",
    "\n",
    "strings = ['cityblock', 'cosine', 'euclidean', 'l1', 'l2', 'manhattan']\n",
    "points = np.array(list(homogenized(strings)))\n",
    "\n",
    "print 'homogenized:\\n%s\\n' % points\n",
    "print 'dehomogenized:\\n%s\\n' % list(dehomogenized(points))\n",
    "print 'distances:\\n%s\\n' % pairwise_distances(points, metric=mylev)"
   ]
  },
  {
   "cell_type": "markdown",
   "metadata": {},
   "source": [
    "Try the logit regression model"
   ]
  },
  {
   "cell_type": "code",
   "execution_count": 162,
   "metadata": {
    "collapsed": false,
    "scrolled": true
   },
   "outputs": [],
   "source": [
    "lev_distance_strings = [([a,b], c) for a,b,c in zip(train['question1'], train['question2'], train['is_duplicate'])]\n",
    "lev_distance = [\n",
    "    (float(levenshtein(pair[0][0], pair[0][1])) /\n",
    "    (float(sum([x.count('') for x in pair[0][0]])) + \n",
    "    float(sum([x.count('') for x in pair[0][1]]))), \n",
    "     pair[1]) for pair in lev_distance_strings \n",
    "]"
   ]
  },
  {
   "cell_type": "code",
   "execution_count": 189,
   "metadata": {
    "collapsed": false
   },
   "outputs": [],
   "source": [
    "lev_df = pd.DataFrame({'lev_distance': [tup[0] for tup in lev_distance], \n",
    "                       'is_duplicate': [tup[1] for tup in lev_distance]})\n",
    "lev_df.to_csv('lev_scores.csv')"
   ]
  },
  {
   "cell_type": "code",
   "execution_count": 184,
   "metadata": {
    "collapsed": false
   },
   "outputs": [
    {
     "name": "stderr",
     "output_type": "stream",
     "text": [
      "/Users/robertsonwang/anaconda2/lib/python2.7/site-packages/ipykernel/__main__.py:5: DataConversionWarning: A column-vector y was passed when a 1d array was expected. Please change the shape of y to (n_samples,), for example using ravel().\n"
     ]
    },
    {
     "data": {
      "text/plain": [
       "RandomForestClassifier(bootstrap=True, class_weight=None, criterion='gini',\n",
       "            max_depth=None, max_features='auto', max_leaf_nodes=None,\n",
       "            min_impurity_split=1e-07, min_samples_leaf=1,\n",
       "            min_samples_split=2, min_weight_fraction_leaf=0.0,\n",
       "            n_estimators=10, n_jobs=1, oob_score=False, random_state=None,\n",
       "            verbose=0, warm_start=False)"
      ]
     },
     "execution_count": 184,
     "metadata": {},
     "output_type": "execute_result"
    }
   ],
   "source": [
    "X_train, X_test, y_train, y_test = tts(lev_df['lev_distance'], lev_df['is_duplicate'], test_size=0.2)\n",
    "log_clf = RandomForestClassifier()\n",
    "X_train = X_train.reshape((len(X_train),1)) \n",
    "y_train = y_train.reshape((len(y_train),1)) \n",
    "log_clf.fit(X_train, y_train)"
   ]
  },
  {
   "cell_type": "code",
   "execution_count": 185,
   "metadata": {
    "collapsed": false
   },
   "outputs": [
    {
     "name": "stdout",
     "output_type": "stream",
     "text": [
      "             precision    recall  f1-score   support\n",
      "\n",
      "          0       0.73      0.75      0.74     51032\n",
      "          1       0.55      0.53      0.54     29826\n",
      "\n",
      "avg / total       0.67      0.67      0.67     80858\n",
      "\n"
     ]
    }
   ],
   "source": [
    "test_results = log_clf.predict(X_test.reshape((len(X_test),1)) )\n",
    "print(classification_report(y_test,test_results))"
   ]
  },
  {
   "cell_type": "code",
   "execution_count": 188,
   "metadata": {
    "collapsed": false
   },
   "outputs": [
    {
     "name": "stdout",
     "output_type": "stream",
     "text": [
      "    is_duplicate  lev_distance\n",
      "0              0      0.036585\n",
      "5              1      0.127841\n",
      "7              1      0.140845\n",
      "8              0      0.055556\n",
      "11             1      0.086420\n",
      "12             1      0.060000\n",
      "13             1      0.030864\n",
      "14             0      0.010676\n",
      "16             1      0.008772\n",
      "19             0      0.039474\n",
      "Which is the best destination for honeymoon in December within a budget of INR 2 lakhs for a couple?\n",
      "Which is the best destination for honeymoon in december within a budget of INR 4 lakhs for a couple?\n"
     ]
    }
   ],
   "source": [
    "print lev_df[lev_df['lev_distance'] <= 0.15][0:10]\n",
    "print train.loc[1316,]['question1']\n",
    "print train.loc[1316,]['question2']"
   ]
  }
 ],
 "metadata": {
  "anaconda-cloud": {},
  "kernelspec": {
   "display_name": "py3",
   "language": "python",
   "name": "py3"
  }
 },
 "nbformat": 4,
 "nbformat_minor": 1
}
