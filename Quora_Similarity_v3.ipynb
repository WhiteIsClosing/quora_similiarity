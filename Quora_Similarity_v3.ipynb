{
 "cells": [
  {
   "cell_type": "code",
   "execution_count": 33,
   "metadata": {
    "collapsed": false
   },
   "outputs": [],
   "source": [
    "##########################################\n",
    "# Load Required Python Libraries\n",
    "##########################################\n",
    "import pandas as pd\n",
    "import numpy as np\n",
    "import matplotlib.pyplot as plt\n",
    "import seaborn as sns\n",
    "%matplotlib inline\n",
    "from tqdm import tqdm\n",
    "from nltk import word_tokenize\n",
    "from nltk.corpus import stopwords\n",
    "import re\n",
    "import nltk\n",
    "# nltk.download('punkt')\n",
    "import chardet\n",
    "import itertools\n",
    "##########################################"
   ]
  },
  {
   "cell_type": "code",
   "execution_count": 34,
   "metadata": {
    "collapsed": true
   },
   "outputs": [],
   "source": [
    "##########################################\n",
    "# Loads in Quora Dataset\n",
    "##########################################\n",
    "#Training Dataset\n",
    "#data = pd.read_csv('/stfm/research5/m1pll00/quora/dataset/train.csv')\n",
    "data = pd.read_csv('/Users/Priscilla/Desktop/QuoraDataset/train.csv')\n",
    "\n",
    "#Drop irrelevant features\n",
    "#data = data.drop(['id', 'qid1', 'qid2'], axis=1)\n",
    "df_train = data\n",
    "##########################################"
   ]
  },
  {
   "cell_type": "code",
   "execution_count": 35,
   "metadata": {
    "collapsed": true
   },
   "outputs": [],
   "source": [
    "##########################################\n",
    "# Feature Engineering Method 1: \n",
    "# Question1 and Question2 length-based features\n",
    "##########################################\n",
    "#Feature: Length of Question\n",
    "#Apply length function to every data.question1 & data.question2 observation\n",
    "data['len_q1'] = data.question1.apply(lambda x: len(str(x)))\n",
    "data['len_q2'] = data.question2.apply(lambda x: len(str(x)))\n",
    "\n",
    "#Feature: Difference in length between the Questions\n",
    "#Substract len_q1 from len_q2\n",
    "data['len_diff'] = data.len_q1 - data.len_q2\n",
    "\n",
    "#Feature: Character count of Question\n",
    "#Strip whitespace in data.question1 & data.question2 and apply the length function\n",
    "data['len_char_q1'] = data.question1.apply(lambda x: len(str(x).replace(' ', '')))\n",
    "data['len_char_q2'] = data.question2.apply(lambda x: len(str(x).replace(' ', '')))\n",
    "\n",
    "#Feature: Word count of Question\n",
    "#Call split function on every data.question1 & data.question2 observation and apply the length function\n",
    "data['len_word_q1'] = data.question1.apply(lambda x: len(str(x).split()))\n",
    "data['len_word_q2'] = data.question2.apply(lambda x: len(str(x).split()))\n",
    "\n",
    "#Feature: Common words between the Questions\n",
    "#Intersection of data.question1 and data.question2\n",
    "#Set function is applied so repeated words in a question is omitted from the final common word count\n",
    "#Axis=1 to calculate the means column-wise (-->) rather than the default of Axis=0 to calculate the means row-wise(v)\n",
    "data['len_common_words'] = data.apply(lambda x: len(set(str(x['question1']).lower().split()).intersection(set(str(x['question2']).lower().split()))), axis=1)\n",
    "##########################################"
   ]
  },
  {
   "cell_type": "code",
   "execution_count": 5,
   "metadata": {
    "collapsed": false
   },
   "outputs": [],
   "source": [
    "# #Evaluate how length-based features impacts the detection of duplicate questions\n",
    "# #Results: They all seem to return the same distribution (Predicts 'Duplicate' slightly more accurately than 'Not Duplicate')\n",
    "# data_subset = data.len_word_q1\n",
    "# plt.figure(figsize=(15, 5))\n",
    "# plt.hist(data_subset[data['is_duplicate'] == 0], bins=20, normed=True, label='Not Duplicate')\n",
    "# plt.hist(data_subset[data['is_duplicate'] == 1], bins=20, normed=True, alpha=0.7, label='Duplicate')\n",
    "# plt.legend()\n",
    "# plt.title('Label distribution over length-based features', fontsize=15)\n",
    "# plt.xlabel('Length-based Features', fontsize=15)"
   ]
  },
  {
   "cell_type": "code",
   "execution_count": 36,
   "metadata": {
    "collapsed": false
   },
   "outputs": [],
   "source": [
    "####################################################################################\n",
    "# Feature Engineering Method 2: \n",
    "# Identifying the average amount of shared words between question1 and question2\n",
    "####################################################################################\n",
    "#Loads in nltk stopwords\n",
    "stop_words = set(stopwords.words(\"english\"))\n",
    "\n",
    "##########################################\n",
    "#Function: shared_words\n",
    "#Purpose: Finds the shared words between question1 and question2 (exclude stop words)\n",
    "#Parameters: Dataframe row containing question1 and question\n",
    "##########################################\n",
    "def shared_words(row):\n",
    "    question1_words = []\n",
    "    question2_words = []\n",
    "    for word in set(str(row.question1).lower().split()):\n",
    "        if word not in stop_words:\n",
    "            question1_words.append(word)\n",
    "            \n",
    "    for word in set(str(row.question2).lower().split()):\n",
    "        if word not in stop_words:\n",
    "            question2_words.append(word)\n",
    "    \n",
    "    #Question contains only stop words (or is an empty string)\n",
    "    if len(question1_words) == 0 or len(question2_words) == 0:\n",
    "        return 0\n",
    "    \n",
    "    question1_shared_words = [w for w in question1_words if w in question2_words]\n",
    "    question2_shared_words = [w for w in question2_words if w in question1_words]\n",
    "    \n",
    "    avg_words_shared = (len(question1_shared_words) + len(question2_shared_words))/(len(question1_words) + len(question2_words))\n",
    "    return avg_words_shared\n",
    "##########################################\n",
    "\n",
    "#data['avg_words_shared'] = data.apply(shared_words, axis=1, raw=True)\n",
    "####################################################################################"
   ]
  },
  {
   "cell_type": "code",
   "execution_count": 7,
   "metadata": {
    "collapsed": false
   },
   "outputs": [],
   "source": [
    "# #Evaluate how shared words feature impacts the detection of duplicate questions\n",
    "# #Results: Good for detecting 'Not Duplicate' questions, but does not do as well to detect 'Duplicate' questions\n",
    "# plt.figure(figsize=(15, 5))\n",
    "# train_word_match = data.apply(shared_words, axis=1, raw=True)\n",
    "# plt.hist(train_word_match[data['is_duplicate'] == 0], bins=20, normed=True, label='Not Duplicate')\n",
    "# plt.hist(train_word_match[data['is_duplicate'] == 1], bins=20, normed=True, alpha=0.7, label='Duplicate')\n",
    "# plt.legend()\n",
    "# plt.title('Label distribution over shared_words', fontsize=15)\n",
    "# plt.xlabel('shared_words', fontsize=15)"
   ]
  },
  {
   "cell_type": "code",
   "execution_count": 8,
   "metadata": {
    "collapsed": false
   },
   "outputs": [],
   "source": [
    "# print(data.question1.iloc[0])\n",
    "# print(data.question2.iloc[0])\n",
    "# shared_words(data.iloc[0])"
   ]
  },
  {
   "cell_type": "code",
   "execution_count": 37,
   "metadata": {
    "collapsed": false
   },
   "outputs": [],
   "source": [
    "##########################################\n",
    "# Feature Engineering Method 3:\n",
    "# Create Bag Of Words Model with Tfidf Normalization\n",
    "##########################################\n",
    "from sklearn.feature_extraction.text import TfidfVectorizer\n",
    "\n",
    "#Obtain the complete vocabulary for the entire dataset\n",
    "questions_combined = list(data.question1.values.astype('str')) + list(data.question2.values.astype('str'))\n",
    "vectorizer = TfidfVectorizer()\n",
    "tfidf = vectorizer.fit_transform(questions_combined)\n",
    "\n",
    "#86153 unique vocabulary words question1 & question2 combined\n",
    "complete_vocab = vectorizer.get_feature_names()\n",
    "\n",
    "#Generate tfidf values for question1 and question2 based on the complete vocabulary of the dataset\n",
    "tfidf_question1 = vectorizer.transform(data.question1.values.astype('str'))\n",
    "tfidf_question2 = vectorizer.transform(data.question2.values.astype('str'))\n",
    "\n",
    "#Substract the difference of the tfidf weight matricies for the two questions\n",
    "#Will be 0 if the words are weighted the same in both questions (similar significance contribution)\n",
    "diff_idf = tfidf_question1 - tfidf_question2\n",
    "##########################################"
   ]
  },
  {
   "cell_type": "code",
   "execution_count": 10,
   "metadata": {
    "collapsed": true
   },
   "outputs": [],
   "source": [
    "##########################################\n",
    "# Split the dataset into training and testing datasets\n",
    "##########################################\n",
    "#Loads the library required for splitting the dataset\n",
    "from sklearn.model_selection import train_test_split\n",
    "\n",
    "#Merge all the features together\n",
    "import scipy\n",
    "data_features = data.ix[:,'len_q1':'avg_words_shared']\n",
    "merged_features = scipy.sparse.hstack(blocks=[diff_idf, scipy.sparse.csr_matrix(data_features)])\n",
    "\n",
    "y = data.ix[:,'is_duplicate']\n",
    "\n",
    "X_train, X_test, y_train, y_test = train_test_split(merged_features, y, test_size=0.2, random_state=1317)\n",
    "##########################################"
   ]
  },
  {
   "cell_type": "code",
   "execution_count": 11,
   "metadata": {
    "collapsed": false
   },
   "outputs": [
    {
     "name": "stdout",
     "output_type": "stream",
     "text": [
      "[0]\ttrain-logloss:0.685919\ttest-logloss:0.685964\n",
      "Multiple eval metrics have been passed: 'test-logloss' will be used for early stopping.\n",
      "\n",
      "Will train until test-logloss hasn't improved in 50 rounds.\n",
      "[10]\ttrain-logloss:0.626919\ttest-logloss:0.627328\n",
      "[20]\ttrain-logloss:0.585155\ttest-logloss:0.585831\n",
      "[30]\ttrain-logloss:0.55454\ttest-logloss:0.55543\n",
      "[40]\ttrain-logloss:0.531317\ttest-logloss:0.53238\n",
      "[50]\ttrain-logloss:0.513469\ttest-logloss:0.514721\n",
      "[60]\ttrain-logloss:0.499485\ttest-logloss:0.500857\n",
      "[70]\ttrain-logloss:0.488101\ttest-logloss:0.489552\n",
      "[80]\ttrain-logloss:0.479243\ttest-logloss:0.480765\n",
      "[90]\ttrain-logloss:0.472093\ttest-logloss:0.473666\n",
      "[100]\ttrain-logloss:0.466059\ttest-logloss:0.467695\n",
      "[110]\ttrain-logloss:0.461028\ttest-logloss:0.462726\n",
      "[120]\ttrain-logloss:0.456827\ttest-logloss:0.458625\n",
      "[130]\ttrain-logloss:0.45338\ttest-logloss:0.455242\n",
      "[140]\ttrain-logloss:0.450331\ttest-logloss:0.452287\n",
      "[150]\ttrain-logloss:0.447878\ttest-logloss:0.449935\n",
      "[160]\ttrain-logloss:0.445777\ttest-logloss:0.447907\n",
      "[170]\ttrain-logloss:0.443934\ttest-logloss:0.446156\n",
      "[180]\ttrain-logloss:0.44239\ttest-logloss:0.444674\n",
      "[190]\ttrain-logloss:0.440961\ttest-logloss:0.443309\n",
      "[200]\ttrain-logloss:0.4396\ttest-logloss:0.44201\n",
      "[210]\ttrain-logloss:0.438322\ttest-logloss:0.440792\n",
      "[220]\ttrain-logloss:0.437165\ttest-logloss:0.43968\n",
      "[230]\ttrain-logloss:0.435997\ttest-logloss:0.438592\n",
      "[240]\ttrain-logloss:0.434777\ttest-logloss:0.437427\n",
      "[250]\ttrain-logloss:0.433631\ttest-logloss:0.436352\n",
      "[260]\ttrain-logloss:0.432702\ttest-logloss:0.435499\n",
      "[270]\ttrain-logloss:0.431772\ttest-logloss:0.43461\n",
      "[280]\ttrain-logloss:0.43086\ttest-logloss:0.433762\n",
      "[290]\ttrain-logloss:0.430058\ttest-logloss:0.432998\n",
      "[300]\ttrain-logloss:0.429146\ttest-logloss:0.432114\n",
      "[310]\ttrain-logloss:0.428354\ttest-logloss:0.43136\n",
      "[320]\ttrain-logloss:0.427625\ttest-logloss:0.430681\n",
      "[330]\ttrain-logloss:0.426856\ttest-logloss:0.429962\n",
      "[340]\ttrain-logloss:0.426209\ttest-logloss:0.429362\n",
      "[350]\ttrain-logloss:0.425482\ttest-logloss:0.42869\n",
      "[360]\ttrain-logloss:0.424787\ttest-logloss:0.428049\n",
      "[370]\ttrain-logloss:0.424124\ttest-logloss:0.427441\n",
      "[380]\ttrain-logloss:0.42354\ttest-logloss:0.426897\n",
      "[390]\ttrain-logloss:0.422923\ttest-logloss:0.426311\n",
      "[399]\ttrain-logloss:0.422415\ttest-logloss:0.425845\n"
     ]
    }
   ],
   "source": [
    "##########################################\n",
    "# Running XGBoost\n",
    "##########################################\n",
    "import xgboost as xgb\n",
    "\n",
    "# Set parameters for XGBoost\n",
    "params = {}\n",
    "params['objective'] = 'binary:logistic'\n",
    "params['eval_metric'] = 'logloss'\n",
    "params['eta'] = 0.02\n",
    "params['max_depth'] = 4\n",
    "\n",
    "d_train = xgb.DMatrix(X_train, label=y_train)\n",
    "d_test = xgb.DMatrix(X_test, label=y_test)\n",
    "\n",
    "watchlist = [(d_train, 'train'), (d_test, 'test')]\n",
    "\n",
    "bst = xgb.train(params, d_train, 400, watchlist, early_stopping_rounds=50, verbose_eval=10)\n",
    "##########################################"
   ]
  },
  {
   "cell_type": "code",
   "execution_count": 12,
   "metadata": {
    "collapsed": false
   },
   "outputs": [
    {
     "data": {
      "text/plain": [
       "['xgboost_model.pkl']"
      ]
     },
     "execution_count": 12,
     "metadata": {},
     "output_type": "execute_result"
    }
   ],
   "source": [
    "#Saves Classifier\n",
    "from sklearn.externals import joblib\n",
    "joblib.dump(bst, 'xgboost_model.pkl')"
   ]
  },
  {
   "cell_type": "code",
   "execution_count": 38,
   "metadata": {
    "collapsed": false
   },
   "outputs": [],
   "source": [
    "#Loads Classifier\n",
    "from sklearn.externals import joblib\n",
    "bst = joblib.load('xgboost_model.pkl')"
   ]
  },
  {
   "cell_type": "code",
   "execution_count": 39,
   "metadata": {
    "collapsed": false
   },
   "outputs": [],
   "source": [
    "##########################################\n",
    "# Loads in Quora Test Dataset\n",
    "##########################################\n",
    "#Test Dataset\n",
    "data_test = pd.read_csv('/Users/Priscilla/Desktop/QuoraDataset/test.csv')\n",
    "#data_test = pd.read_csv('/stfm/research5/m1pll00/quora/dataset/test.csv')\n",
    "##########################################"
   ]
  },
  {
   "cell_type": "code",
   "execution_count": 40,
   "metadata": {
    "collapsed": true
   },
   "outputs": [],
   "source": [
    "##########################################\n",
    "# Feature Engineering Method 1: \n",
    "# Creating new input variables to improve ML algorithm performance\n",
    "##########################################\n",
    "#Feature: Length of Question\n",
    "#Apply length function to every data.question1 & data.question2 observation\n",
    "data_test['len_q1'] = data_test.question1.apply(lambda x: len(str(x)))\n",
    "data_test['len_q2'] = data_test.question2.apply(lambda x: len(str(x)))\n",
    "\n",
    "#Feature: Difference in length between the Questions\n",
    "#Substract len_q1 from len_q2\n",
    "data_test['len_diff'] = data_test.len_q1 - data_test.len_q2\n",
    "\n",
    "#Feature: Character count of Question\n",
    "#Strip whitespace in data.question1 & data.question2 and apply the length function\n",
    "data_test['len_char_q1'] = data_test.question1.apply(lambda x: len(str(x).replace(' ', '')))\n",
    "data_test['len_char_q2'] = data_test.question2.apply(lambda x: len(str(x).replace(' ', '')))\n",
    "\n",
    "#Feature: Word count of Question\n",
    "#Call split function on every data.question1 & data.question2 observation and apply the length function\n",
    "data_test['len_word_q1'] = data_test.question1.apply(lambda x: len(str(x).split()))\n",
    "data_test['len_word_q2'] = data_test.question2.apply(lambda x: len(str(x).split()))\n",
    "\n",
    "#Feature: Common words between the Questions\n",
    "#Intersection of data.question1 and data.question2\n",
    "#Set function is applied so repeated words in a question is omitted from the final common word count\n",
    "#Axis=1 to calculate the means column-wise (-->) rather than the default of Axis=0 to calculate the means row-wise(v)\n",
    "data_test['len_common_words'] = data_test.apply(lambda x: len(set(str(x['question1']).lower().split()).intersection(set(str(x['question2']).lower().split()))), axis=1)\n",
    "##########################################"
   ]
  },
  {
   "cell_type": "code",
   "execution_count": 41,
   "metadata": {
    "collapsed": false
   },
   "outputs": [],
   "source": [
    "data_test['avg_words_shared'] = data_test.apply(shared_words, axis=1, raw=True)"
   ]
  },
  {
   "cell_type": "code",
   "execution_count": 42,
   "metadata": {
    "collapsed": true
   },
   "outputs": [],
   "source": [
    "question1_df = data_test.question1\n",
    "question2_df = data_test.question2\n",
    "\n",
    "#Generate tfidf values for question1 and question2 based on the complete vocabulary of the dataset\n",
    "tfidf_question1_test = vectorizer.transform(question1_df.values.astype('str'))\n",
    "tfidf_question2_test = vectorizer.transform(question2_df.values.astype('str'))\n",
    "\n",
    "#Substract the difference of the tfidf weight matricies for the two questions\n",
    "#Will be 0 if the words are weighted the same in both questions (similar significance contribution)\n",
    "diff_idf_test = tfidf_question1_test - tfidf_question2_test"
   ]
  },
  {
   "cell_type": "code",
   "execution_count": 43,
   "metadata": {
    "collapsed": false
   },
   "outputs": [],
   "source": [
    "import scipy\n",
    "data_features = data_test.ix[:,'len_q1':'avg_words_shared']\n",
    "merged_features_test = scipy.sparse.hstack(blocks=[diff_idf_test, scipy.sparse.csr_matrix(data_features)])"
   ]
  },
  {
   "cell_type": "code",
   "execution_count": 44,
   "metadata": {
    "collapsed": false
   },
   "outputs": [],
   "source": [
    "import xgboost as xgb\n",
    "test = xgb.DMatrix(merged_features_test)\n",
    "test_prediction = bst.predict(test)"
   ]
  },
  {
   "cell_type": "code",
   "execution_count": 45,
   "metadata": {
    "collapsed": true
   },
   "outputs": [],
   "source": [
    "sub = pd.DataFrame()\n",
    "sub['test_id'] = data_test['test_id']\n",
    "sub['is_duplicate'] = test_prediction\n",
    "sub.to_csv('simple_xgb.csv', index=False)"
   ]
  }
 ],
 "metadata": {
  "kernelspec": {
   "display_name": "Python 3",
   "language": "python",
   "name": "python3"
  },
  "language_info": {
   "codemirror_mode": {
    "name": "ipython",
    "version": 3
   },
   "file_extension": ".py",
   "mimetype": "text/x-python",
   "name": "python",
   "nbconvert_exporter": "python",
   "pygments_lexer": "ipython3",
   "version": "3.4.5"
  }
 },
 "nbformat": 4,
 "nbformat_minor": 2
}
